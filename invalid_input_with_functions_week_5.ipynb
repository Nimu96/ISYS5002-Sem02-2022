{
  "nbformat": 4,
  "nbformat_minor": 0,
  "metadata": {
    "colab": {
      "name": "invalid input with functions week 5.ipynb",
      "provenance": [],
      "include_colab_link": true
    },
    "kernelspec": {
      "name": "python3",
      "display_name": "Python 3"
    },
    "language_info": {
      "name": "python"
    }
  },
  "cells": [
    {
      "cell_type": "markdown",
      "metadata": {
        "id": "view-in-github",
        "colab_type": "text"
      },
      "source": [
        "<a href=\"https://colab.research.google.com/github/Nimu96/ISYS5002-Sem02-2022/blob/main/invalid_input_with_functions_week_5.ipynb\" target=\"_parent\"><img src=\"https://colab.research.google.com/assets/colab-badge.svg\" alt=\"Open In Colab\"/></a>"
      ]
    },
    {
      "cell_type": "markdown",
      "source": [
        "## Step 1: Get Income details with input valid details"
      ],
      "metadata": {
        "id": "r2IUoUrsGfyW"
      }
    },
    {
      "cell_type": "code",
      "source": [
        "def get_income():\n",
        "\n",
        "  '''\n",
        "  This function will prompt the user for the income\n",
        "  and return the value income\n",
        "  '''\n",
        "  while True:\n",
        "    try:\n",
        "      name = input(\"Enter your name: \")\n",
        "      Hourly_pay =int(input(\"please enter the hourly rate: \"))\n",
        "      Working_hours =int(input(\"Please enter the working hours: \"))\n",
        "      Gross_pay = (Hourly_pay* Working_hours) * 12\n",
        "      break\n",
        "    except ValueError:\n",
        "     print(\"You have enter invalid values, please enter correct values\") \n",
        "   \n",
        " \n",
        " \n",
        "\n",
        "  return Gross_pay\n",
        "  \n",
        "  \n",
        "\n",
        "   \n",
        "  \n",
        "  "
      ],
      "metadata": {
        "id": "BQq3gCd1GVwf"
      },
      "execution_count": 4,
      "outputs": []
    },
    {
      "cell_type": "markdown",
      "source": [
        "## Step 2: Calculate the income, tax payable & income after tax"
      ],
      "metadata": {
        "id": "pgt-5XVqGnWG"
      }
    },
    {
      "cell_type": "code",
      "source": [
        "monthly_income = get_income()\n",
        "\n",
        "def calculate_tax_payable(monthly_income):\n",
        "  '''\n",
        "    income --  receives income value\n",
        "    returns calculated tax payable amount\n",
        "  '''\n",
        "   \n",
        "  # based on the income, determines the correct income bracket and calculates the tax payable amount\n",
        "  if monthly_income <= 18200:\n",
        "    tax_payable = 0\n",
        "  elif 18201 <= monthly_income <= 45000:\n",
        "    tax_payable = int(monthly_income - 18200) *0.19\n",
        "  elif 45000 < monthly_income <= 120000:\n",
        "    tax_payable = int((monthly_income - 45000) *0.325) + 5092\n",
        "  elif 120001 <= monthly_income <= 180000:\n",
        "    tax_payable = int((monthly_income - 120000) *0.37) + 29467\n",
        "  else:\n",
        "    tax_payable = int((monthly_income - 120000) *0.45) + 51667\n",
        "  \n",
        "  return tax_payable\n",
        "\n",
        "  payable_tax= calculate_tax_payable()\n",
        "\n",
        "\n",
        "\n",
        "\n",
        "\n"
      ],
      "metadata": {
        "id": "WIXvwfVVGtbM",
        "outputId": "9c56ac9e-04b2-44bc-ea8a-c74f591d40c4",
        "colab": {
          "base_uri": "https://localhost:8080/"
        }
      },
      "execution_count": 5,
      "outputs": [
        {
          "name": "stdout",
          "output_type": "stream",
          "text": [
            "Enter your name: Nirmal\n",
            "please enter the hourly rate: 30\n",
            "Please enter the working hours: 160\n"
          ]
        }
      ]
    },
    {
      "cell_type": "markdown",
      "source": [
        "## Step 3: Print the payslip"
      ],
      "metadata": {
        "id": "kO2J7-wTGt-k"
      }
    },
    {
      "cell_type": "code",
      "source": [
        "def output(monthly_income, payable_tax):\n",
        "\n",
        "  finalIncome = monthly_income - payable_tax\n",
        "  print(\"The gross income is $\", monthly_income)\n",
        "  print(\"The tax payable is $\", payable_tax)\n",
        "  \n",
        "  print(\"The income after tax is $\", finalIncome)"
      ],
      "metadata": {
        "id": "Q0NmbiWUG7A8"
      },
      "execution_count": 6,
      "outputs": []
    },
    {
      "cell_type": "markdown",
      "metadata": {
        "id": "BNdsJ9jszwRi"
      },
      "source": [
        "## Task 2 - Complete the program"
      ]
    },
    {
      "cell_type": "code",
      "execution_count": 7,
      "metadata": {
        "id": "pd8m2I1uMuAu",
        "outputId": "f9580c8f-d119-47e4-d0fc-d60ddbe445ca",
        "colab": {
          "base_uri": "https://localhost:8080/"
        }
      },
      "outputs": [
        {
          "output_type": "stream",
          "name": "stdout",
          "text": [
            "Enter your name: Nirmal\n",
            "please enter the hourly rate: 30j\n",
            "You have enter invalid values, please enter correct values\n",
            "Enter your name: 160\n",
            "please enter the hourly rate: 30j\n",
            "You have enter invalid values, please enter correct values\n",
            "Enter your name: Nirmal\n",
            "please enter the hourly rate: 30\n",
            "Please enter the working hours: 160\n",
            "The gross income is $ 57600\n",
            "The tax payable is $ 9187\n",
            "The income after tax is $ 48413\n"
          ]
        }
      ],
      "source": [
        "#Main program\n",
        "\n",
        "#get input\n",
        "income_input = get_income()\n",
        "\n",
        "#calculate the tax payable\n",
        "tax_to_pay = calculate_tax_payable(income_input)\n",
        "\n",
        "#display the results\n",
        "output(income_input, tax_to_pay)\n",
        "\n"
      ]
    },
    {
      "cell_type": "code",
      "source": [],
      "metadata": {
        "id": "vJta4bRGbrXt"
      },
      "execution_count": null,
      "outputs": []
    }
  ]
}