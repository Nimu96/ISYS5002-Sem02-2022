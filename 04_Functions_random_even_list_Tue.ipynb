{
  "nbformat": 4,
  "nbformat_minor": 0,
  "metadata": {
    "colab": {
      "name": "04_Functions_random_even_list_Tue.ipynb",
      "provenance": [],
      "collapsed_sections": [],
      "include_colab_link": true
    },
    "kernelspec": {
      "name": "python3",
      "display_name": "Python 3"
    },
    "language_info": {
      "name": "python"
    }
  },
  "cells": [
    {
      "cell_type": "markdown",
      "metadata": {
        "id": "view-in-github",
        "colab_type": "text"
      },
      "source": [
        "<a href=\"https://colab.research.google.com/github/Nimu96/ISYS5002-Sem02-2022/blob/main/04_Functions_random_even_list_Tue.ipynb\" target=\"_parent\"><img src=\"https://colab.research.google.com/assets/colab-badge.svg\" alt=\"Open In Colab\"/></a>"
      ]
    },
    {
      "cell_type": "markdown",
      "source": [
        "# Task 1: Generate a list of *ten (10)* random *even* numbers using `while` loop"
      ],
      "metadata": {
        "id": "yoglYJWb3G5p"
      }
    },
    {
      "cell_type": "code",
      "source": [
        "# import random module\n",
        "import random\n",
        "\n",
        "evenlist = [] #define an empty list\n",
        "counter = 1 #define and set inital value for counter - a variable to keep track of the number of elements in the list\n",
        "\n",
        "while (counter <=3):\n",
        "  randNum = random.randrange(50, 100) # generate random number \n",
        "  print('randNum is', randNum)\n",
        "\n",
        "  if randNum % 2 == 0:  #check if it it even number\n",
        "    evenlist.append(randNum) #if it is an even number, add to list\n",
        "    counter += 1\n",
        "  \n",
        "  print(\"Counter is\", counter)\n",
        "  print(\"Items in the list \", evenlist, \"\\n\") #display/output the even list at each iteration\n",
        "  \n",
        "print(\"\\nThe final evenlist: \", evenlist) #display/output the final even list\n"
      ],
      "metadata": {
        "id": "XzaS3MJ2AG6U",
        "outputId": "b788854d-2f16-486f-b768-15dc849ef814",
        "colab": {
          "base_uri": "https://localhost:8080/"
        }
      },
      "execution_count": 1,
      "outputs": [
        {
          "output_type": "stream",
          "name": "stdout",
          "text": [
            "randNum is 75\n",
            "Counter is 1\n",
            "Items in the list  [] \n",
            "\n",
            "randNum is 84\n",
            "Counter is 2\n",
            "Items in the list  [84] \n",
            "\n",
            "randNum is 92\n",
            "Counter is 3\n",
            "Items in the list  [84, 92] \n",
            "\n",
            "randNum is 64\n",
            "Counter is 4\n",
            "Items in the list  [84, 92, 64] \n",
            "\n",
            "\n",
            "The final evenlist:  [84, 92, 64]\n"
          ]
        }
      ]
    },
    {
      "cell_type": "markdown",
      "source": [
        "### Try with different values"
      ],
      "metadata": {
        "id": "6xYzRb3CClsX"
      }
    },
    {
      "cell_type": "code",
      "source": [
        ""
      ],
      "metadata": {
        "id": "8l_PM0vvC3CW"
      },
      "execution_count": null,
      "outputs": []
    },
    {
      "cell_type": "markdown",
      "source": [
        "# Task 2: Generalise\n",
        "\n",
        "### Make what we changed as inputs (parameters) to a function"
      ],
      "metadata": {
        "id": "mqAewt8WC3cX"
      }
    },
    {
      "cell_type": "code",
      "source": [
        "#creating a funtion to generate list of evennumbers\n",
        "\n",
        "def generate_even_list(num,begin,end):\n",
        "  # import random module\n",
        "  import random\n",
        "  \n",
        "  evenlist = [] #define an empty list\n",
        "  counter = 1 #define and set inital value for counter - a variable to keep track of the number of elements in the list\n",
        "\n",
        "  while (counter <=num):\n",
        "    randNum = random.randrange(begin, end) # generate random number \n",
        "    print('randNum is', randNum)\n",
        "    if randNum % 2 == 0:  #check if it it even number\n",
        "      evenlist.append(randNum) #if it is an even number, add to list\n",
        "      counter = counter + 1\n",
        "    print(\"Counter is\", counter)\n",
        "    print(\"Items in the list \", evenlist, \"\\n\") #display/output the even list at each iteration\n",
        "    print(\"\\nThe final evenlist: \", evenlist) #display/output the final even list\n",
        " "
      ],
      "metadata": {
        "id": "f3gFrgLoBfgF"
      },
      "execution_count": 4,
      "outputs": []
    },
    {
      "cell_type": "code",
      "source": [
        "generate_even_list(4, 50, 70)  #function call"
      ],
      "metadata": {
        "id": "ClTwdrmiwKeQ",
        "outputId": "f80877d7-39ef-42c6-f90e-9ac2ad57c691",
        "colab": {
          "base_uri": "https://localhost:8080/"
        }
      },
      "execution_count": 5,
      "outputs": [
        {
          "output_type": "stream",
          "name": "stdout",
          "text": [
            "randNum is 65\n",
            "Counter is 1\n",
            "Items in the list  [] \n",
            "\n",
            "\n",
            "The final evenlist:  []\n",
            "randNum is 64\n",
            "Counter is 2\n",
            "Items in the list  [64] \n",
            "\n",
            "\n",
            "The final evenlist:  [64]\n",
            "randNum is 61\n",
            "Counter is 2\n",
            "Items in the list  [64] \n",
            "\n",
            "\n",
            "The final evenlist:  [64]\n",
            "randNum is 65\n",
            "Counter is 2\n",
            "Items in the list  [64] \n",
            "\n",
            "\n",
            "The final evenlist:  [64]\n",
            "randNum is 58\n",
            "Counter is 3\n",
            "Items in the list  [64, 58] \n",
            "\n",
            "\n",
            "The final evenlist:  [64, 58]\n",
            "randNum is 69\n",
            "Counter is 3\n",
            "Items in the list  [64, 58] \n",
            "\n",
            "\n",
            "The final evenlist:  [64, 58]\n",
            "randNum is 52\n",
            "Counter is 4\n",
            "Items in the list  [64, 58, 52] \n",
            "\n",
            "\n",
            "The final evenlist:  [64, 58, 52]\n",
            "randNum is 63\n",
            "Counter is 4\n",
            "Items in the list  [64, 58, 52] \n",
            "\n",
            "\n",
            "The final evenlist:  [64, 58, 52]\n",
            "randNum is 50\n",
            "Counter is 5\n",
            "Items in the list  [64, 58, 52, 50] \n",
            "\n",
            "\n",
            "The final evenlist:  [64, 58, 52, 50]\n"
          ]
        }
      ]
    },
    {
      "cell_type": "markdown",
      "source": [
        "# Docstrings\n",
        "\n",
        "A docstring is a string literal that occurs as the first statement in a function, module, class, or method definition. \n",
        "\n",
        "Docstring encased in triple `\"\"\"` quotes.\n",
        "\n",
        "Docstrings are used to describe a function. \n",
        " - what a function does, \n",
        " - the number of arguments it takes\n",
        " - the type of object it returns, etc\n",
        "\n",
        "https://peps.python.org/pep-0257/#what-is-a-docstring"
      ],
      "metadata": {
        "id": "-vluWzf0aJDF"
      }
    },
    {
      "cell_type": "code",
      "source": [
        ""
      ],
      "metadata": {
        "id": "oCq3n9_5Cawu"
      },
      "execution_count": null,
      "outputs": []
    },
    {
      "cell_type": "markdown",
      "source": [
        "# Task 3 (Optional): Write a function that takes a list as an argument and generate two lists, even list and odd list.\n",
        "\n",
        "### *Try with `for` loop*"
      ],
      "metadata": {
        "id": "8Tx-b-9EHOpH"
      }
    },
    {
      "cell_type": "code",
      "source": [
        ""
      ],
      "metadata": {
        "id": "lvQDKMHNHPxe"
      },
      "execution_count": null,
      "outputs": []
    }
  ]
}