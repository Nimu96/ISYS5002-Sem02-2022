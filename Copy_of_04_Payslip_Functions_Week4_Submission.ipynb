{
  "nbformat": 4,
  "nbformat_minor": 0,
  "metadata": {
    "colab": {
      "name": "Copy of 04_Payslip_Functions-Week4_Submission.ipynb",
      "provenance": [],
      "include_colab_link": true
    },
    "kernelspec": {
      "name": "python3",
      "display_name": "Python 3"
    },
    "language_info": {
      "name": "python"
    }
  },
  "cells": [
    {
      "cell_type": "markdown",
      "metadata": {
        "id": "view-in-github",
        "colab_type": "text"
      },
      "source": [
        "<a href=\"https://colab.research.google.com/github/Nimu96/ISYS5002-Sem02-2022/blob/main/Copy_of_04_Payslip_Functions_Week4_Submission.ipynb\" target=\"_parent\"><img src=\"https://colab.research.google.com/assets/colab-badge.svg\" alt=\"Open In Colab\"/></a>"
      ]
    },
    {
      "cell_type": "markdown",
      "source": [
        "# Task: Write a program to print out a payslip for hourly paid employees. <br>\n",
        "Modify the Gross pay & paylisp activities to print out a payslip for hourly paid employees.<br>Refer to week 2's Gross Pay and week 3's Payslip submission activities.\n",
        "\n",
        "[What has to be on a pay slip?](https://www.fairwork.gov.au/pay-and-wages/paying-wages/pay-slips#what-has-to-be-on-a-pay-slip)\n",
        "\n",
        "[Resident tax rates 2022–23](https://www.ato.gov.au/rates/individual-income-tax-rates/)"
      ],
      "metadata": {
        "id": "2jQsL4QPFfuG"
      }
    },
    {
      "cell_type": "markdown",
      "source": [
        "# Implement this Payslip program as functions:\n",
        "\n",
        "- Function to receive details to calculate income\n",
        "- Function to calculate income, tax payable & income after tax\n",
        "- Function to print the payslip with details: \n",
        "> employee name, hourly pay rate, hours worked, gross income, tax payable, income after tax\n",
        "\n"
      ],
      "metadata": {
        "id": "u6HZryjcFBok"
      }
    },
    {
      "cell_type": "markdown",
      "source": [
        "## Step 1: Get Income details"
      ],
      "metadata": {
        "id": "r2IUoUrsGfyW"
      }
    },
    {
      "cell_type": "code",
      "source": [
        "def get_income():\n",
        "  '''\n",
        "  This function will prompt the user for the income\n",
        "  and return the value income\n",
        "  '''\n",
        "  name=input(\"Enter your name: \")\n",
        "  hours_worked=int(input(\"Enter hours worked in a month : \"))\n",
        "  hourly_pay_rate=int(input(\"Enter per hour rate\"))\n",
        "  income = (hours_worked * hourly_pay_rate) * 12  \n",
        "  return income"
      ],
      "metadata": {
        "id": "BQq3gCd1GVwf"
      },
      "execution_count": null,
      "outputs": []
    },
    {
      "cell_type": "markdown",
      "source": [
        "## Step 2: Calculate the income, tax payable & income after tax"
      ],
      "metadata": {
        "id": "pgt-5XVqGnWG"
      }
    },
    {
      "cell_type": "code",
      "source": [
        "\n",
        "\n",
        "monthly_income = get_income()\n",
        "\n",
        "def calculate_tax_payable(monthly_income):\n",
        "  '''\n",
        "    income --  receives income value\n",
        "    returns calculated tax payable amount\n",
        "  '''\n",
        "   \n",
        "  # based on the income, determines the correct income bracket and calculates the tax payable amount\n",
        "  if monthly_income <= 18200:\n",
        "    tax_payable = 0\n",
        "  elif 18201 <= monthly_income <= 45000:\n",
        "    tax_payable = int(monthly_income - 18200) *0.19\n",
        "  elif 45000 < monthly_income <= 120000:\n",
        "    tax_payable = int((monthly_income - 45000) *0.325) + 5092\n",
        "  elif 120001 <= monthly_income <= 180000:\n",
        "    tax_payable = int((monthly_income - 120000) *0.37) + 29467\n",
        "  else:\n",
        "    tax_payable = int((monthly_income - 120000) *0.45) + 51667\n",
        "  \n",
        "  return tax_payable\n",
        "\n",
        "  payable_tax= calculate_tax_payable()\n",
        "\n",
        "\n",
        "\n",
        "\n"
      ],
      "metadata": {
        "id": "WIXvwfVVGtbM",
        "outputId": "7393c995-79e4-49a2-928b-59b402b6d01e",
        "colab": {
          "base_uri": "https://localhost:8080/"
        }
      },
      "execution_count": null,
      "outputs": [
        {
          "name": "stdout",
          "output_type": "stream",
          "text": [
            "Enter your name: Nirmal\n",
            "Enter hours worked in a month : 160\n",
            "Enter per hour rate90\n"
          ]
        }
      ]
    },
    {
      "cell_type": "markdown",
      "source": [
        "## Step 3: Print the payslip"
      ],
      "metadata": {
        "id": "kO2J7-wTGt-k"
      }
    },
    {
      "cell_type": "code",
      "source": [
        "def output(monthly_income, payable_tax):\n",
        "\n",
        "  finalIncome = monthly_income - payable_tax\n",
        "  print(\"The gross income is $\", monthly_income)\n",
        "  print(\"The tax payable is $\", payable_tax)\n",
        "  \n",
        "  print(\"The income after tax is $\", finalIncome)"
      ],
      "metadata": {
        "id": "Q0NmbiWUG7A8"
      },
      "execution_count": null,
      "outputs": []
    },
    {
      "cell_type": "markdown",
      "metadata": {
        "id": "BNdsJ9jszwRi"
      },
      "source": [
        "## Task 2 - Complete the program"
      ]
    },
    {
      "cell_type": "code",
      "execution_count": null,
      "metadata": {
        "id": "pd8m2I1uMuAu",
        "outputId": "37d5c414-0a7d-4326-b6c7-29fb2d6ac24d",
        "colab": {
          "base_uri": "https://localhost:8080/"
        }
      },
      "outputs": [
        {
          "output_type": "stream",
          "name": "stdout",
          "text": [
            "Enter your name: Nirmal\n",
            "Enter hours worked in a month : 160\n",
            "Enter per hour rate25\n",
            "The gross income is $ 48000\n",
            "The tax payable is $ 6067\n",
            "The income after tax is $ 41933\n"
          ]
        }
      ],
      "source": [
        "#Main program\n",
        "\n",
        "#get input\n",
        "income_input = get_income()\n",
        "\n",
        "#calculate the tax payable\n",
        "tax_to_pay = calculate_tax_payable(income_input)\n",
        "\n",
        "#display the results\n",
        "output(income_input, tax_to_pay)"
      ]
    }
  ]
}